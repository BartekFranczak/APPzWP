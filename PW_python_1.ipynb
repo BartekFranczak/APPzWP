{
  "nbformat": 4,
  "nbformat_minor": 0,
  "metadata": {
    "colab": {
      "provenance": [],
      "authorship_tag": "ABX9TyP82qwi3d8oz9VQmsR3+QZb",
      "include_colab_link": true
    },
    "kernelspec": {
      "name": "python3",
      "display_name": "Python 3"
    },
    "language_info": {
      "name": "python"
    }
  },
  "cells": [
    {
      "cell_type": "markdown",
      "metadata": {
        "id": "view-in-github",
        "colab_type": "text"
      },
      "source": [
        "<a href=\"https://colab.research.google.com/github/BartekFranczak/APPzWP/blob/main/PW_python_1.ipynb\" target=\"_parent\"><img src=\"https://colab.research.google.com/assets/colab-badge.svg\" alt=\"Open In Colab\"/></a>"
      ]
    },
    {
      "cell_type": "code",
      "execution_count": null,
      "metadata": {
        "id": "ZqCI_I0cfxec"
      },
      "outputs": [],
      "source": [
        "Automatyzacja procesów projektowania z wykorzystniem Pythona"
      ]
    },
    {
      "cell_type": "markdown",
      "source": [
        "Ok coś tam dopisałem \n"
      ],
      "metadata": {
        "id": "v1otVmDRgpG1"
      }
    },
    {
      "cell_type": "markdown",
      "source": [],
      "metadata": {
        "id": "EZwPEw8fgy9I"
      }
    }
  ]
}