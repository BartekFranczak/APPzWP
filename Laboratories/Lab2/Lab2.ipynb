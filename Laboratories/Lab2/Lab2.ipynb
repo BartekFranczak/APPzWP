{
  "cells": [
    {
      "cell_type": "markdown",
      "id": "664f45a0",
      "metadata": {
        "id": "664f45a0"
      },
      "source": [
        "# LAB 2\n",
        "We will have look at OOP (Object Oriented Programing) paradigm with Python."
      ]
    },
    {
      "cell_type": "markdown",
      "id": "39858dbb",
      "metadata": {
        "id": "39858dbb"
      },
      "source": [
        "Declare a simple class."
      ]
    },
    {
      "cell_type": "markdown",
      "id": "1307d9b8",
      "metadata": {
        "id": "1307d9b8"
      },
      "source": [
        "## Task 1 (inheritance)\n",
        "Create a child class Bus that will inherit all of the variables and methods of the Vehicle class\n",
        "\n",
        "\n",
        "```python\n",
        "class Vehicle:\n",
        "\n",
        "    def __init__(self, name, max_speed, mileage):\n",
        "        self.name = name\n",
        "        self.max_speed = max_speed\n",
        "        self.mileage = mileage\n",
        "\n",
        "\n",
        "```"
      ]
    },
    {
      "cell_type": "code",
      "execution_count": 1,
      "id": "663f9ba9",
      "metadata": {
        "id": "663f9ba9"
      },
      "outputs": [],
      "source": [
        "class Vehicle:\n",
        "\n",
        "    def __init__(self, name, max_speed, mileage):\n",
        "        self.name = name\n",
        "        self.max_speed = max_speed\n",
        "        self.mileage = mileage"
      ]
    },
    {
      "cell_type": "code",
      "source": [
        "class Bus(Vehicle):\n",
        "  def __init__(self, name, max_speed, mileage):\n",
        "    Vehicle.__init__(self, name, max_speed, mileage)"
      ],
      "metadata": {
        "id": "kylPmtew4Ofd"
      },
      "id": "kylPmtew4Ofd",
      "execution_count": 4,
      "outputs": []
    },
    {
      "cell_type": "code",
      "source": [
        "B = Bus(\"Anton\", 20, 2137)\n",
        "print(B.max_speed)"
      ],
      "metadata": {
        "colab": {
          "base_uri": "https://localhost:8080/"
        },
        "id": "96TMBlbV4wRP",
        "outputId": "4e8af325-9058-4a80-e3de-91715a49a905"
      },
      "id": "96TMBlbV4wRP",
      "execution_count": 5,
      "outputs": [
        {
          "output_type": "stream",
          "name": "stdout",
          "text": [
            "20\n"
          ]
        }
      ]
    },
    {
      "cell_type": "markdown",
      "id": "85ce4128",
      "metadata": {
        "id": "85ce4128"
      },
      "source": [
        "## Task 2\n",
        "Create a Bus class that inherits from the Vehicle class. Give the capacity argument of Bus.seating_capacity() a default value of 50.\n",
        "\n",
        "```python\n",
        "class Vehicle:\n",
        "    def __init__(self, name, max_speed, mileage):\n",
        "        self.name = name\n",
        "        self.max_speed = max_speed\n",
        "        self.mileage = mileage\n",
        "\n",
        "    def seating_capacity(self, capacity):\n",
        "        return f\"The seating capacity of a {self.name} is {capacity} passengers\"\n",
        "```"
      ]
    },
    {
      "cell_type": "code",
      "execution_count": 8,
      "id": "c8da8989",
      "metadata": {
        "id": "c8da8989"
      },
      "outputs": [],
      "source": [
        "class Vehicle:\n",
        "    def __init__(self, name, max_speed, mileage):\n",
        "        self.name = name\n",
        "        self.max_speed = max_speed\n",
        "        self.mileage = mileage\n",
        "\n",
        "    def seating_capacity(self, capacity):\n",
        "      \n",
        "        return f\"The seating capacity of a {self.name} is {capacity} passengers\""
      ]
    },
    {
      "cell_type": "code",
      "source": [
        "class Bus(Vehicle):\n",
        "  def __init__(self, name, max_speed, mileage):\n",
        "    Vehicle.__init__(self, name, max_speed, mileage)\n",
        "  def seating_capacity(self, capacity=50):\n",
        "      \n",
        "        return f\"The seating capacity of a {self.name} is {capacity} passengers\""
      ],
      "metadata": {
        "id": "vqYNMlb-5HJm"
      },
      "id": "vqYNMlb-5HJm",
      "execution_count": 9,
      "outputs": []
    },
    {
      "cell_type": "code",
      "source": [
        "B = Bus(\"Anton\", 20, 2137)\n",
        "print(B.seating_capacity())"
      ],
      "metadata": {
        "colab": {
          "base_uri": "https://localhost:8080/"
        },
        "id": "e0H0oE-S59WK",
        "outputId": "8e5774ee-7123-4137-b885-b5c22a940845"
      },
      "id": "e0H0oE-S59WK",
      "execution_count": 10,
      "outputs": [
        {
          "output_type": "stream",
          "name": "stdout",
          "text": [
            "The seating capacity of a Anton is 50 passengers\n"
          ]
        }
      ]
    },
    {
      "cell_type": "markdown",
      "id": "47e34ff7",
      "metadata": {
        "id": "47e34ff7"
      },
      "source": [
        "## Task 3 (Use of Instance Variables & Class variable)\n",
        "Define a class attribute \"color\" with a default value white. I.e., Every Vehicle should be white. \n",
        "\n",
        "\n",
        "Expected output<br>\n",
        "<em>\n",
        "Color: White, Vehicle name: School Volvo, Speed: 180, Mileage: 12 <br>\n",
        "Color: White, Vehicle name: Audi Q5, Speed: 240, Mileage: 18\n",
        "</em>    \n",
        "\n",
        "```python\n",
        "class Vehicle:\n",
        "\n",
        "    def __init__(self, name, max_speed, mileage):\n",
        "        self.name = name\n",
        "        self.max_speed = max_speed\n",
        "        self.mileage = mileage\n",
        "\n",
        "class Bus(Vehicle):\n",
        "    pass\n",
        "\n",
        "class Car(Vehicle):\n",
        "    pass\n",
        "```"
      ]
    },
    {
      "cell_type": "code",
      "execution_count": 13,
      "id": "a1ca584a",
      "metadata": {
        "id": "a1ca584a"
      },
      "outputs": [],
      "source": [
        "class Vehicle:\n",
        "\n",
        "    def __init__(self, name, max_speed, mileage,  color = \"White\"):\n",
        "        self.name = name\n",
        "        self.max_speed = max_speed\n",
        "        self.mileage = mileage\n",
        "        self.color = color\n",
        "    def print_info(self):\n",
        "      print(\"Color: {}, Vehicle name: {}, Speed: {}, Mileage: {}\".format(self.color, self.name,self.max_speed,self.mileage))\n",
        "\n",
        "\n",
        "class Bus(Vehicle):\n",
        "    pass\n",
        "\n",
        "class Car(Vehicle):\n",
        "    pass\n",
        "  "
      ]
    },
    {
      "cell_type": "code",
      "source": [
        "B = Bus(\"Anton\", 20, 2137)\n",
        "print(B.print_info())"
      ],
      "metadata": {
        "colab": {
          "base_uri": "https://localhost:8080/"
        },
        "id": "yv8GpGTw6eZA",
        "outputId": "68a6bcfe-9734-418a-c65d-7652633e72ea"
      },
      "id": "yv8GpGTw6eZA",
      "execution_count": 14,
      "outputs": [
        {
          "output_type": "stream",
          "name": "stdout",
          "text": [
            "Color: White, Vehicle name: Anton, Speed: 20, Mileage: 2137\n",
            "None\n"
          ]
        }
      ]
    },
    {
      "cell_type": "markdown",
      "id": "30e3fe7b",
      "metadata": {
        "id": "30e3fe7b"
      },
      "source": [
        "## Task 4 (Class Inheritance)\n",
        "Create a Bus child class that inherits from the Vehicle class. The default fare charge of any vehicle is seating capacity * 100. If Vehicle is Bus instance, we need to add an extra 10% on full fare as a maintenance charge. So total fare for bus instance will become the final amount = total fare + 10% of the total fare.\n",
        "\n",
        "<em> Note: The bus seating capacity is 50. so the final fare amount should be 5500. You need to override the fare() method of a Vehicle class in Bus class. </em>\n",
        "\n",
        "\n",
        "```python\n",
        "class Vehicle:\n",
        "    def __init__(self, name, mileage, capacity):\n",
        "        self.name = name\n",
        "        self.mileage = mileage\n",
        "        self.capacity = capacity\n",
        "\n",
        "    def fare(self):\n",
        "        return self.capacity * 100\n",
        "\n",
        "class Bus(Vehicle):\n",
        "    pass\n",
        "\n",
        "School_bus = Bus(\"School Volvo\", 12, 50)\n",
        "print(\"Total Bus fare is:\", School_bus.fare())\n",
        "\n",
        "\n",
        "```\n",
        "1. Check the type of School_bus using python function \n",
        "```python\n",
        "type(School_bus)\n",
        "```\n",
        "\n",
        "2. Check if School_bus is also an instance of the vehicle class using python function\n",
        "```python \n",
        "isinstance(School_bus, Vehicle)\n",
        "```\n"
      ]
    },
    {
      "cell_type": "code",
      "execution_count": 17,
      "id": "5f3311be",
      "metadata": {
        "id": "5f3311be",
        "colab": {
          "base_uri": "https://localhost:8080/"
        },
        "outputId": "00009571-324d-4c6d-cca7-4c8dbcaf1dfd"
      },
      "outputs": [
        {
          "output_type": "stream",
          "name": "stdout",
          "text": [
            "Total Bus fare is: 5500\n"
          ]
        }
      ],
      "source": [
        "class Vehicle:\n",
        "    def __init__(self, name, mileage, capacity):\n",
        "        self.name = name\n",
        "        self.mileage = mileage\n",
        "        self.capacity = capacity\n",
        "\n",
        "    def fare(self):\n",
        "        return self.capacity * 100\n",
        "\n",
        "class Bus(Vehicle):\n",
        "    def fare(self):\n",
        "      return self.capacity*110\n",
        "    \n",
        "\n",
        "School_bus = Bus(\"School Volvo\", 12, 50)\n",
        "print(\"Total Bus fare is:\", School_bus.fare())"
      ]
    },
    {
      "cell_type": "code",
      "source": [
        "print(type(School_bus))\n",
        "print(isinstance(School_bus, Vehicle))"
      ],
      "metadata": {
        "colab": {
          "base_uri": "https://localhost:8080/"
        },
        "id": "-9JfbdBy8OO0",
        "outputId": "f9de4156-cfe8-4201-be2b-087306675162"
      },
      "id": "-9JfbdBy8OO0",
      "execution_count": 18,
      "outputs": [
        {
          "output_type": "stream",
          "name": "stdout",
          "text": [
            "<class '__main__.Bus'>\n",
            "True\n"
          ]
        }
      ]
    },
    {
      "cell_type": "markdown",
      "id": "96fe9414",
      "metadata": {
        "id": "96fe9414"
      },
      "source": []
    },
    {
      "cell_type": "markdown",
      "id": "35cf2610",
      "metadata": {
        "id": "35cf2610"
      },
      "source": [
        "## TASK5 Creating list of objects and sorting/filering based on some values.\n",
        "Implements a proleptic Gregorian calendar date as a Julian day number. \n",
        "\n",
        "```python\n",
        "class Date :\n",
        " # Creates an object instance for the specified Gregorian date.\n",
        "    def __init__( self, day, month, year ):\n",
        "        self._julianDay = 0\n",
        "        tmp = 0\n",
        "        if month < 3 :\n",
        "            tmp = -1\n",
        "        self._julianDay = day - 32075 + \\\n",
        "        (1461 * (year + 4800 + tmp) // 4) + \\\n",
        "        (367 * (month - 2 - tmp * 12) // 12) - \\\n",
        "        (3 * ((year + 4900 + tmp) // 100) // 4)\n",
        "       \n",
        "\n",
        "    # Extracts the appropriate Gregorian date component.\n",
        "    def month( self ):\n",
        "        return (self._toGregorian())[0] # returning M from (M, d, y)\n",
        "\n",
        "    def day( self ):\n",
        "        return (self._toGregorian())[1] # returning D from (m, D, y)\n",
        "    \n",
        "    def year( self ):\n",
        "        return (self._toGregorian())[2] # returning Y from (m, d, Y)\n",
        "\n",
        "    # Returns day of the week as an int between 0 (Mon) and 6 (Sun).\n",
        "    def dayOfWeek( self ):\n",
        "        month, day, year = self._toGregorian()\n",
        "        if month < 3 :\n",
        "            month = month + 12\n",
        "            year = year - 1\n",
        "        return ((13 * month + 3) // 5 + day + year + year // 4 - year // 100 + year // 400) % 7\n",
        "\n",
        "    # Returns the date as a string in Gregorian format.\n",
        "    def __str__( self ):\n",
        "        month, day, year = self._toGregorian()\n",
        "        return \"%02d/%02d/%04d\" % (day, month, year)\n",
        "\n",
        "    # Logically compares the two dates.\n",
        "    def __eq__( self, otherDate ):\n",
        "        return self._julianDay == otherDate._julianDay\n",
        "    \n",
        "    def __lt__( self, otherDate ):\n",
        "        return self._julianDay < otherDate._julianDay\n",
        "\n",
        "    def __le__( self, otherDate ):\n",
        "        return self._julianDay <= otherDate._julianDay\n",
        "\n",
        "        # The remaining methods are to be included at this point.\n",
        "        # ......\n",
        "\n",
        "        \n",
        "    #def _isValidGregorian (self):\n",
        "        \n",
        "        \n",
        "    \n",
        "    # Returns the Gregorian date as a tuple: (month, day, year).\n",
        "    def _toGregorian( self ):\n",
        "        A = self._julianDay + 68569\n",
        "        B = 4 * A // 146097\n",
        "        A = A - (146097 * B + 3) // 4\n",
        "        year = 4000 * (A + 1) // 1461001\n",
        "        A = A - (1461 * year // 4) + 31\n",
        "        month = 80 * A // 2447\n",
        "        day = A - (2447 * month // 80)\n",
        "        A = month // 11\n",
        "        month = month + 2 - (12 * A)\n",
        "        year = 100 * (B - 49) + year + A\n",
        "        return month, day, year\n",
        "    \n",
        "```\n",
        "\n",
        "Now create a list of objects of above class which save day and date of birth days of your imaginary friends (create randomly). Sort the birthday based on occurence in that year e.g. someone whose birthday in january should be in the begining. \n",
        "Next sort them based on the day, e.g. in Januray whose birthday comes on Monday should be first.\n"
      ]
    },
    {
      "cell_type": "code",
      "execution_count": 33,
      "id": "7a393c9b",
      "metadata": {
        "id": "7a393c9b"
      },
      "outputs": [],
      "source": [
        "class Date :\n",
        " # Creates an object instance for the specified Gregorian date.\n",
        "    def __init__( self, day, month, year ):\n",
        "        self._julianDay = 0\n",
        "        tmp = 0\n",
        "        if month < 3 :\n",
        "            tmp = -1\n",
        "        self._julianDay = day - 32075 + \\\n",
        "        (1461 * (year + 4800 + tmp) // 4) + \\\n",
        "        (367 * (month - 2 - tmp * 12) // 12) - \\\n",
        "        (3 * ((year + 4900 + tmp) // 100) // 4)\n",
        "\n",
        "\n",
        "    # Extracts the appropriate Gregorian date component.\n",
        "    def month( self ):\n",
        "        return (self._toGregorian())[0] # returning M from (M, d, y)\n",
        "\n",
        "    def day( self ):\n",
        "        return (self._toGregorian())[1] # returning D from (m, D, y)\n",
        "\n",
        "    def year( self ):\n",
        "        return (self._toGregorian())[2] # returning Y from (m, d, Y)\n",
        "\n",
        "    # Returns day of the week as an int between 0 (Mon) and 6 (Sun).\n",
        "    def dayOfWeek( self ):\n",
        "        month, day, year = self._toGregorian()\n",
        "        if month < 3 :\n",
        "            month = month + 12\n",
        "            year = year - 1\n",
        "        return ((13 * month + 3) // 5 + day + year + year // 4 - year // 100 + year // 400) % 7\n",
        "\n",
        "    # Returns the date as a string in Gregorian format.\n",
        "    def __str__( self ):\n",
        "        month, day, year = self._toGregorian()\n",
        "        return \"%02d/%02d/%04d\" % (day, month, year)\n",
        "\n",
        "    # Logically compares the two dates.\n",
        "    # def __eq__( self, otherDate ):\n",
        "    #     return self._julianDay == otherDate._julianDay\n",
        "\n",
        "    # def __lt__( self, otherDate ):\n",
        "    #     return self._julianDay < otherDate._julianDay\n",
        "\n",
        "    # def __le__( self, otherDate ):\n",
        "    #     return self._julianDay <= otherDate._julianDay\n",
        "\n",
        "        # The remaining methods are to be included at this point.\n",
        "        # ......\n",
        "\n",
        "\n",
        "    #def _isValidGregorian (self):\n",
        "\n",
        "\n",
        "\n",
        "    # Returns the Gregorian date as a tuple: (month, day, year).\n",
        "    def _toGregorian( self ):\n",
        "        A = self._julianDay + 68569\n",
        "        B = 4 * A // 146097\n",
        "        A = A - (146097 * B + 3) // 4\n",
        "        year = 4000 * (A + 1) // 1461001\n",
        "        A = A - (1461 * year // 4) + 31\n",
        "        month = 80 * A // 2447\n",
        "        day = A - (2447 * month // 80)\n",
        "        A = month // 11\n",
        "        month = month + 2 - (12 * A)\n",
        "        year = 100 * (B - 49) + year + A\n",
        "        return month, day, year\n"
      ]
    },
    {
      "cell_type": "code",
      "source": [
        "friends = [Date(1,2,1998),Date(17,2,1998),Date(16,8,1997),Date(14,9,1999),Date(13,12,1991)]\n",
        "friends_sorted = sorted(friends, key=lambda friend: friend._julianDay)\n",
        "\n",
        "friends_srt_tyg = sorted(friends, key=lambda friend: friend.dayOfWeek())\n",
        "daty = [\"{}.{}.{}\".format(friend._toGregorian()[1],friend._toGregorian()[0],friend._toGregorian()[2]) for friend in friends_sorted]\n",
        "daty1 = [\"{}.{}.{}\".format(friend._toGregorian()[1],friend._toGregorian()[0],friend._toGregorian()[2]) for friend in friends_srt_tyg]\n",
        "dni_tyg=[friend.dayOfWeek() for friend in friends_srt_tyg]\n",
        "print(daty)\n",
        "print(daty1)\n",
        "print(dni_tyg)\n"
      ],
      "metadata": {
        "colab": {
          "base_uri": "https://localhost:8080/"
        },
        "id": "rlZCqtKy9kCd",
        "outputId": "1e72edfd-8466-4824-dedf-b0703dfc00f1"
      },
      "id": "rlZCqtKy9kCd",
      "execution_count": 34,
      "outputs": [
        {
          "output_type": "stream",
          "name": "stdout",
          "text": [
            "['13.12.1991', '16.8.1997', '1.2.1998', '17.2.1998', '14.9.1999']\n",
            "['17.2.1998', '14.9.1999', '13.12.1991', '16.8.1997', '1.2.1998']\n",
            "[1, 1, 4, 5, 6]\n"
          ]
        }
      ]
    }
  ],
  "metadata": {
    "hide_input": false,
    "kernelspec": {
      "display_name": "Python 3 (ipykernel)",
      "language": "python",
      "name": "python3"
    },
    "language_info": {
      "codemirror_mode": {
        "name": "ipython",
        "version": 3
      },
      "file_extension": ".py",
      "mimetype": "text/x-python",
      "name": "python",
      "nbconvert_exporter": "python",
      "pygments_lexer": "ipython3",
      "version": "3.8.8"
    },
    "colab": {
      "provenance": []
    }
  },
  "nbformat": 4,
  "nbformat_minor": 5
}