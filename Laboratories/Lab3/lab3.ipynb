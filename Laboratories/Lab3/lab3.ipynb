{
  "cells": [
    {
      "cell_type": "markdown",
      "id": "664f45a0",
      "metadata": {
        "id": "664f45a0"
      },
      "source": [
        "# LAB 3\n",
        "\n",
        "We will now use the tools we have learned to perform a simple study of a certain first order ODE problem. The problem comes from Spruce Budworm that has a tendency to periodically eat up fir tree forests in eastern Canada. The original research comes from Ludwig 1976 available here: https://www.jstor.org/stable/3939?seq=1 but is also discussed in a very good book by Strogatz \"Nonlinear Dynamics and Chaos\". \n",
        "\n",
        "## Tasks to be performed:\n",
        "1. Examine the problem. Try to determine fixed points of the solution.\n",
        "2. Solve the ODE for different initial conditions. Check what the solution approaches to.\n",
        "3. Prepare the solution surface as a function of system parameters and determine \"refuge\", \"bistable\" and \"outbreak\" states. Try out different initial conditions.\n",
        "4. Examine evolution of the system as parameters are slowly varied in time.\n",
        "5. What should we do with the bugs?"
      ]
    },
    {
      "cell_type": "code",
      "execution_count": null,
      "id": "6b9794c2",
      "metadata": {
        "id": "6b9794c2"
      },
      "outputs": [],
      "source": [
        "#Imports we might need\n",
        "import numpy as np\n",
        "import matplotlib.pyplot as plt\n",
        "from mpl_toolkits.mplot3d import Axes3D # Produces 3D axes setting\n",
        "from scipy.integrate import odeint\n",
        "from matplotlib import cm"
      ]
    },
    {
      "cell_type": "markdown",
      "id": "0f2babfe",
      "metadata": {
        "id": "0f2babfe"
      },
      "source": [
        "# Introduction\n",
        "The problem is a variant of a logistical equation, or the predator-pray problem in which the population of A is consumed by B according to a simple (but nonlinear) model. We assume population of the worm changes according to:\n",
        "\n",
        "$$\n",
        "\\dot{N}=RN(1-\\frac{N}{K}) - p(N)\n",
        "$$\n",
        "\n",
        "where $R$ is the growth parameter, $K$ is the carrying capacity of the ecosystem (how much $N$ can be sustained), and $p(N)$ is the decrease of the population $N$ due to predation by birds. Disregarding $p(N)$ we have a simple equation:\n",
        "\n",
        "$$\n",
        "\\dot{N}=RN(1-\\frac{N}{K})\n",
        "$$\n",
        "\n",
        "Following Ludwig 1976 we will adopt a nonlinear predation model:\n",
        "\n",
        "$$\n",
        "p(N)=\\frac{BN^2}{A^2+N^2}\n",
        "$$\n",
        "\n",
        "with $A$ and $B$ some constants. The meaning of this model is such, that for a small worm population birds look for food elsewhere, but when it exceeds a certain value birds simply do not eat the worm fast enough. Or in other words predation saturates.\n",
        "\n",
        "The entire problem can be rewritten in a non dimensional form:\n",
        "\n",
        "$$\n",
        "\\dot{x} = rx(1-\\frac{x}{k})-\\frac{x^2}{1+x^2}\n",
        "$$\n",
        "\n",
        "Our task today is to examine this model and to construct the parametric surface $x(r,k)$ as well as to produce some understanding as to how the model behaves. \n",
        "\n",
        "Eventually, we will introduce a small change to the model, by allowing $r$ to increase with time at a slow peace, which should correspond to the increase in the foliage cover of the forest (as time passes, there is more trees and more leaves). We should be able to reach the outbreak region, which would result in a \"catastrophe\". This would be understood as a rapid change in the population of the worm, with a very mild, and continuous change of system parameters. Note: Do you see a relation to the virus outbreak?"
      ]
    },
    {
      "cell_type": "markdown",
      "id": "a5b387cf",
      "metadata": {
        "id": "a5b387cf"
      },
      "source": [
        "# Task 1\n",
        "Choose $r=0.4$ and $k=14$ as starting values and plot the two parts that constitute the RHS of the model. I.e.:\n",
        "$\n",
        "f(x) = rx(1-\\frac{x}{k}) \\text{ and } p(x)=\\frac{x^2}{1+x^2}\n",
        "$\n",
        "Determine intersection points of the two curves and mark them on the plot using `scatter`."
      ]
    },
    {
      "cell_type": "code",
      "execution_count": 77,
      "id": "d3d1d433",
      "metadata": {
        "colab": {
          "base_uri": "https://localhost:8080/",
          "height": 551
        },
        "id": "d3d1d433",
        "outputId": "864a46bd-cd2e-4433-e91f-83319c59fc84"
      },
      "outputs": [
        {
          "output_type": "stream",
          "name": "stdout",
          "text": [
            "{0.0, 0.4729309453155188, 2.7457280539128814, 10.781341000771603}\n",
            "      converged: True\n",
            "           flag: 'converged'\n",
            " function_calls: 6\n",
            "     iterations: 5\n",
            "           root: 10.781341000771603 10.781341000771603 -6.661338147750939e-16\n"
          ]
        },
        {
          "output_type": "execute_result",
          "data": {
            "text/plain": [
              "[<matplotlib.lines.Line2D at 0x7f41e4979700>]"
            ]
          },
          "metadata": {},
          "execution_count": 77
        },
        {
          "output_type": "display_data",
          "data": {
            "text/plain": [
              "<Figure size 640x480 with 1 Axes>"
            ],
            "image/png": "[encoded data removed]"
          },
          "metadata": {}
        }
      ],
      "source": [
        "import numpy as np\n",
        "import matplotlib.pyplot as plt\n",
        "from scipy.optimize import root_scalar\n",
        "\n",
        "def fun(x):\n",
        "  return r*x*(1-(x/k))-x*x/(1+x*x)\n",
        "def f(x):\n",
        "  return r*x*(1-(x/k))\n",
        "r = 0.4\n",
        "k = 14\n",
        "potential = [0,0.5,2,10]\n",
        "res = root_scalar(fun,x0=0,x1=1)\n",
        "roots=[]\n",
        "for i in potential:\n",
        "  res = root_scalar(fun,x0=i,x1=i+1)\n",
        "  plt.scatter( res.root,f(res.root),s=100,color='green')\n",
        "  roots.append(res.root)\n",
        "\n",
        "print(set(roots))\n",
        "print(res, res.root, fun(res.root))\n",
        "\n",
        "\n",
        "\n",
        "x= np.linspace(0,13,101)\n",
        "y=r*x*(1-x/k)\n",
        "p=x*x/(1+x*x)\n",
        "plt.plot(x,y)\n",
        "plt.plot(x,p)\n"
      ]
    },
    {
      "cell_type": "markdown",
      "id": "d22c6ea6",
      "metadata": {
        "id": "d22c6ea6"
      },
      "source": [
        "# Task 2\n",
        "Now examine the sign of the left hand of the ODE and decide which of those three points can pose as a stable solution. All comes down to estimating the sign and deciding should $x$ increase or decrease?\n",
        "\n",
        "Now let move on, solve the problem and examine if points we determined are attainable depending on the initial condition? We will use the ODE solver for this."
      ]
    },
    {
      "cell_type": "code",
      "execution_count": 80,
      "id": "a19ea789",
      "metadata": {
        "colab": {
          "base_uri": "https://localhost:8080/",
          "height": 551
        },
        "id": "a19ea789",
        "outputId": "4f8ea697-e220-4429-e635-74afdd55c2e8"
      },
      "outputs": [
        {
          "output_type": "stream",
          "name": "stdout",
          "text": [
            "[[2.        ]\n",
            " [1.98849954]\n",
            " [1.97685521]\n",
            " ...\n",
            " [0.47293094]\n",
            " [0.47293094]\n",
            " [0.47293094]]\n"
          ]
        },
        {
          "output_type": "display_data",
          "data": {
            "text/plain": [
              "<Figure size 640x480 with 1 Axes>"
            ],
            "image/png": "[encoded data removed]"
          },
          "metadata": {}
        }
      ],
      "source": [
        "from scipy.integrate import odeint\n",
        "\n",
        "def fun(x0,t0):\n",
        "  return [r*x0[0]*(1-(x0[0]/k))-x0[0]*x0[0]/(1+x0[0]*x0[0])]\n",
        "x0=[2]\n",
        "N=np.linspace(0,100,1001)\n",
        "dN = odeint(fun,x0,N)\n",
        "plt.plot(N,dN)\n",
        "print(dN)"
      ]
    },
    {
      "cell_type": "markdown",
      "id": "29067afa",
      "metadata": {
        "id": "29067afa"
      },
      "source": [
        "# Task 3\n",
        "Note the two points \"on the outsides\" seem like stable solutions. That is solution approaches those in time. How about the middle point? Is it stable? No, it is not, any small deviation will send the system to either of the stable points. Try to integrate using the middle point as initial condition with a very small deviation."
      ]
    },
    {
      "cell_type": "code",
      "execution_count": 97,
      "id": "67aad81e",
      "metadata": {
        "colab": {
          "base_uri": "https://localhost:8080/",
          "height": 556
        },
        "id": "67aad81e",
        "outputId": "9f912232-bdf1-47c3-ac86-892e42385956"
      },
      "outputs": [
        {
          "output_type": "stream",
          "name": "stdout",
          "text": [
            "[[2.74172805]\n",
            " [2.74165355]\n",
            " [2.74157766]\n",
            " ...\n",
            " [0.47293095]\n",
            " [0.47293095]\n",
            " [0.47293095]]\n"
          ]
        },
        {
          "output_type": "display_data",
          "data": {
            "text/plain": [
              "<Figure size 640x480 with 1 Axes>"
            ],
            "image/png": "[encoded data removed]"
          },
          "metadata": {}
        }
      ],
      "source": [
        "from scipy.integrate import quad\n",
        "\n",
        "def fun(x0,t0=0):\n",
        "  return r*x0*(1-(x0/k))-x0*x0/(1+x0*x0)\n",
        "x0=2.7417280539728814\n",
        "N=np.linspace(0,110,1001)\n",
        "dN = odeint(fun,x0,N)\n",
        "plt.plot(N,dN)\n",
        "plt.ylim(0,12)\n",
        "print(dN)"
      ]
    },
    {
      "cell_type": "markdown",
      "id": "72037b8a",
      "metadata": {
        "id": "72037b8a"
      },
      "source": [
        "# Task 4\n",
        "We can now attempt to plot the solution surfaces. We could solve the ODE for each configuration, or just look for roots. We should choose the former solution. It requires us to solve an ODE, but we have no trouble selecting the correct root."
      ]
    },
    {
      "cell_type": "code",
      "execution_count": 98,
      "id": "58583065",
      "metadata": {
        "colab": {
          "base_uri": "https://localhost:8080/"
        },
        "id": "58583065",
        "outputId": "cd139aa9-aaf4-4a91-9aa9-15ecc290f0a5"
      },
      "outputs": [
        {
          "output_type": "stream",
          "name": "stdout",
          "text": [
            "(50, 50)\n"
          ]
        }
      ],
      "source": [
        "r = np.linspace(0.01, 1.0, 50)\n",
        "k = np.linspace(0.01, 20, 50)\n",
        "R,K = np.meshgrid(r,k)\n",
        "\n",
        "t = np.linspace(0, 200, 1000)  # one thousand time steps\n",
        "sh = R.shape\n",
        "X1 = np.zeros_like(R)\n",
        "X2 = np.zeros_like(R)\n",
        "print(R.shape)"
      ]
    },
    {
      "cell_type": "markdown",
      "id": "30b1feae",
      "metadata": {
        "id": "30b1feae"
      },
      "source": [
        "Before we start, try to illustrate how the number of roots changes with system parameters. You can do this, by plotting the predation function and than the logistic part for different $k$ and $r$ values."
      ]
    },
    {
      "cell_type": "code",
      "execution_count": null,
      "id": "5da6f1d4",
      "metadata": {
        "id": "5da6f1d4"
      },
      "outputs": [],
      "source": []
    },
    {
      "cell_type": "markdown",
      "id": "e8e1b3bd",
      "metadata": {
        "id": "e8e1b3bd"
      },
      "source": [
        "What we need now is to solve an ODE for each and every $(r,k)$ pair with initial condition chosen such that we obtain both of the stable solutions. You could use the code snippet below:\n",
        "``` \n",
        "x0 = 2\n",
        "xt1 = odeint(lor_rhs, x0, t)\n",
        "X1[i,j] = xt1[-1]\n",
        "\n",
        "x0 = 10\n",
        "xt2 = odeint(lor_rhs, x0, t)\n",
        "X2[i,j] = xt2[-1]\n",
        "```"
      ]
    },
    {
      "cell_type": "code",
      "execution_count": null,
      "id": "432a7c8f",
      "metadata": {
        "id": "432a7c8f"
      },
      "outputs": [],
      "source": []
    },
    {
      "cell_type": "markdown",
      "id": "f3362b07",
      "metadata": {
        "id": "f3362b07"
      },
      "source": [
        "Plot the 3D surface:"
      ]
    },
    {
      "cell_type": "code",
      "execution_count": null,
      "id": "45920dbe",
      "metadata": {
        "id": "45920dbe"
      },
      "outputs": [],
      "source": [
        "%matplotlib notebook\n",
        "from mpl_toolkits.mplot3d import Axes3D # Produces 3D axes setting\n",
        "from matplotlib import cm\n",
        "\n",
        "font = {'family' : 'Comic Sans MS', 'weight' : 'normal', 'size'   : 24} #larger font I like\n",
        "plt.rc('font', **font)\n",
        "fig, ax = plt.subplots(subplot_kw={\"projection\": \"3d\"})\n",
        "\n",
        "surf = ax.plot_surface(R, K, X2, color='red', alpha=1)\n",
        "surf = ax.plot_surface(R, K, X1, color='blue', alpha=0.5)\n",
        "\n",
        "plt.show()"
      ]
    },
    {
      "cell_type": "markdown",
      "id": "a449f9bd",
      "metadata": {
        "id": "a449f9bd"
      },
      "source": [
        "# Task 5\n",
        "Now time for a catastrophe to happen. We will evolve the spruce population in time and assume that conditions of the habitat change slowly in time. That is, as the time goes by, forest grows, there is more leaves to feed on and to hide in. This will translate to a relatively slow change of the habitat caring capacity $k$. We will fix $r=0.4$ and vary $k$ from $5$ up."
      ]
    },
    {
      "cell_type": "code",
      "execution_count": null,
      "id": "7bf64eb1",
      "metadata": {
        "id": "7bf64eb1"
      },
      "outputs": [],
      "source": [
        "x0 = 0.5\n",
        "r = 0.6\n",
        "k = 5\n",
        "t = np.linspace(0, 200, 1000)"
      ]
    },
    {
      "cell_type": "markdown",
      "id": "6ef14632",
      "metadata": {
        "id": "6ef14632"
      },
      "source": [
        "Try to show how the population explodes as parameters $(r,k)$ approach the critical region, we have seen upon finishing Task 4."
      ]
    },
    {
      "cell_type": "code",
      "execution_count": null,
      "id": "fd2d7518",
      "metadata": {
        "id": "fd2d7518"
      },
      "outputs": [],
      "source": []
    }
  ],
  "metadata": {
    "hide_input": false,
    "kernelspec": {
      "display_name": "Python 3 (ipykernel)",
      "language": "python",
      "name": "python3"
    },
    "language_info": {
      "codemirror_mode": {
        "name": "ipython",
        "version": 3
      },
      "file_extension": ".py",
      "mimetype": "text/x-python",
      "name": "python",
      "nbconvert_exporter": "python",
      "pygments_lexer": "ipython3",
      "version": "3.10.6"
    },
    "colab": {
      "provenance": []
    }
  },
  "nbformat": 4,
  "nbformat_minor": 5
}