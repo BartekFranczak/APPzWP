{
  "cells": [
    {
      "cell_type": "markdown",
      "metadata": {
        "id": "dDOKs3wjaIxJ"
      },
      "source": [
        "# Lecture 2\n",
        "Procedural and object oriented paradigms of programming.  \n",
        "Procedural programing centers around developing procedures (functions) and passing data in between while performing programmed tasks. So in a sense data and functionality remain separated.  \n",
        "With Object Oriented Programming (OOP) we create objects that merge data and functionality together, which should in principle allow for better code organization, limit code redundancy and give a more real life relation between program parts.  \n",
        "Object Oriented Programing (OOP) in Python is based on a couple of concepts, we will now discuss:\n",
        "* Class and object\n",
        "* Methods and attributes\n",
        "* Encapsulation\n",
        "* Inheritance and polymorphism\n",
        "\n",
        "Note: OOP, allows to do some things in a more natural and understandable manner, but there should be limits to the excessive use. What I mean, it is good when it is good, and sometimes to much is just to much."
      ]
    },
    {
      "cell_type": "markdown",
      "metadata": {
        "id": "gRjzGQO_aIxK"
      },
      "source": [
        "## Class and object:\n",
        "Class is a recipe for creating objects. It defines what object has (data) and what it can do (methods). In Python creating a class is very simple:"
      ]
    },
    {
      "cell_type": "code",
      "execution_count": 1,
      "metadata": {
        "id": "bxCMfmWZaIxL"
      },
      "outputs": [],
      "source": [
        "class Cat:\n",
        "    pass"
      ]
    },
    {
      "cell_type": "markdown",
      "metadata": {
        "id": "LKyfXga9aIxL"
      },
      "source": [
        "We defined a class *Cat*, it has nothing (*pass*) for now. We can create a number of variables of type *Cat*:"
      ]
    },
    {
      "cell_type": "code",
      "execution_count": 2,
      "metadata": {
        "colab": {
          "base_uri": "https://localhost:8080/"
        },
        "id": "ExV5Th3LaIxM",
        "outputId": "5a036060-b463-46c3-db88-4225e592f7b7"
      },
      "outputs": [
        {
          "output_type": "stream",
          "name": "stdout",
          "text": [
            "<__main__.Cat object at 0x7ff94e33e490>\n",
            "[<__main__.Cat object at 0x7ff94e33ebb0>, <__main__.Cat object at 0x7ff94e33e490>]\n"
          ]
        }
      ],
      "source": [
        "a = Cat()\n",
        "b = []\n",
        "b.append(Cat())\n",
        "b.append(a)\n",
        "print(a)\n",
        "print(b)"
      ]
    },
    {
      "cell_type": "markdown",
      "metadata": {
        "id": "ZkctD0d8aIxM"
      },
      "source": [
        "We created two *Cat* s and stored them in a list *b*. Note that b\\[0\\] is the same as *a*. Although right now our Cat class has no attributes, we might add those on the run. Which in a long run might not be such a good idea, but is possible, due to dynamic typing paradigm:"
      ]
    },
    {
      "cell_type": "code",
      "execution_count": 3,
      "metadata": {
        "id": "S4TCuZDYaIxM"
      },
      "outputs": [],
      "source": [
        "a.b = 10 # now object a of type Cat has an attribute b!"
      ]
    },
    {
      "cell_type": "markdown",
      "metadata": {
        "id": "zludZ3oXaIxM"
      },
      "source": [
        "Still, this will not work:"
      ]
    },
    {
      "cell_type": "code",
      "execution_count": 4,
      "metadata": {
        "colab": {
          "base_uri": "https://localhost:8080/",
          "height": 166
        },
        "id": "V-V-MsQSaIxM",
        "outputId": "e78f1754-6888-41fd-c2db-4b0aa0679288"
      },
      "outputs": [
        {
          "output_type": "error",
          "ename": "AttributeError",
          "evalue": "ignored",
          "traceback": [
            "\u001b[0;31m---------------------------------------------------------------------------\u001b[0m",
            "\u001b[0;31mAttributeError\u001b[0m                            Traceback (most recent call last)",
            "\u001b[0;32m<ipython-input-4-0b05c7f8087e>\u001b[0m in \u001b[0;36m<module>\u001b[0;34m\u001b[0m\n\u001b[0;32m----> 1\u001b[0;31m \u001b[0mprint\u001b[0m\u001b[0;34m(\u001b[0m\u001b[0mb\u001b[0m\u001b[0;34m[\u001b[0m\u001b[0;36m0\u001b[0m\u001b[0;34m]\u001b[0m\u001b[0;34m.\u001b[0m\u001b[0mb\u001b[0m\u001b[0;34m)\u001b[0m\u001b[0;34m\u001b[0m\u001b[0;34m\u001b[0m\u001b[0m\n\u001b[0m",
            "\u001b[0;31mAttributeError\u001b[0m: 'Cat' object has no attribute 'b'"
          ]
        }
      ],
      "source": [
        "print(b[0].b)"
      ]
    },
    {
      "cell_type": "markdown",
      "metadata": {
        "id": "43FDWsPJaIxM"
      },
      "source": [
        "But this will (Why?):"
      ]
    },
    {
      "cell_type": "code",
      "execution_count": 5,
      "metadata": {
        "colab": {
          "base_uri": "https://localhost:8080/"
        },
        "id": "DvxC911YaIxN",
        "outputId": "484b5f18-dfbf-48d7-aa38-47ac5a3a7797"
      },
      "outputs": [
        {
          "output_type": "stream",
          "name": "stdout",
          "text": [
            "10\n"
          ]
        }
      ],
      "source": [
        "print(b[1].b)"
      ]
    },
    {
      "cell_type": "markdown",
      "metadata": {
        "id": "omKVT-1raIxN"
      },
      "source": [
        "We will return to the \"additional\" attributes in a second to illustrate possible problems.\n",
        "\n",
        "**Coding time!**: In a separate file define a class Animal. Import the module here and create a list to store Animal objects."
      ]
    },
    {
      "cell_type": "markdown",
      "metadata": {
        "id": "NpVzItD1aIxN"
      },
      "source": [
        "## Methods and attributes\n",
        "Classes define data an object of the class has. Let expand the Cat so it has a breed attribute: "
      ]
    },
    {
      "cell_type": "code",
      "execution_count": null,
      "metadata": {
        "id": "1JTrxQg8aIxN"
      },
      "outputs": [],
      "source": [
        "class Cat:\n",
        "    breed = ''"
      ]
    },
    {
      "cell_type": "code",
      "execution_count": 6,
      "metadata": {
        "id": "BzMFy1inaIxN"
      },
      "outputs": [],
      "source": [
        "cat1 = Cat()\n",
        "cat1.breed = 'Sjam'\n",
        "cat2 = Cat()\n",
        "cat2.breed = 'Persian'\n",
        "# Let have cats in a cat list\n",
        "clist = [cat1, cat2]"
      ]
    },
    {
      "cell_type": "code",
      "execution_count": 7,
      "metadata": {
        "colab": {
          "base_uri": "https://localhost:8080/"
        },
        "id": "edqOimX6aIxN",
        "outputId": "0d1a69b9-fcc0-4bbe-d16a-574b5764e788"
      },
      "outputs": [
        {
          "output_type": "stream",
          "name": "stdout",
          "text": [
            "Sjam\n",
            "Persian\n"
          ]
        }
      ],
      "source": [
        "for c in clist:\n",
        "    print(c.breed)"
      ]
    },
    {
      "cell_type": "markdown",
      "metadata": {
        "id": "UX0k1QieaIxN"
      },
      "source": [
        "**Coding time**!: Extend Animal to include taxonomic information stored as a string. For now just phylum (typ). Create some objects of different phylum (check Wiki for possible choices)."
      ]
    },
    {
      "cell_type": "markdown",
      "metadata": {
        "id": "tUG6jyPbaIxO"
      },
      "source": [
        "### self\n",
        "We will no add methods to perform some operation on the Cat object. Before we do we need to mention the **self** parameter. **self** is used to refer to the attributes of the object of the class, and is similar to the **C++** **this** pointer. It is also used to define that a procedure is a method of the class, by being the first argument."
      ]
    },
    {
      "cell_type": "code",
      "execution_count": 8,
      "metadata": {
        "id": "eMdzAQnqaIxO"
      },
      "outputs": [],
      "source": [
        "class Cat:\n",
        "    breed = ''\n",
        "    \n",
        "    def Print(self): # Note self as an argument!\n",
        "        print('This cat is a', self.breed)"
      ]
    },
    {
      "cell_type": "markdown",
      "metadata": {
        "id": "iKcj4hPFaIxO"
      },
      "source": [
        "Since we redefined the Cat class, we need to recreate the objects (check if the previous ones have method *Print()*):"
      ]
    },
    {
      "cell_type": "code",
      "execution_count": 9,
      "metadata": {
        "id": "xikM4OQxaIxO"
      },
      "outputs": [],
      "source": [
        "cat1 = Cat()\n",
        "cat1.breed = 'Sjam'\n",
        "cat2 = Cat()\n",
        "cat2.breed = 'Persian'\n",
        "# Let have cats in a cat list\n",
        "clist = [cat1, cat2]"
      ]
    },
    {
      "cell_type": "code",
      "execution_count": 10,
      "metadata": {
        "colab": {
          "base_uri": "https://localhost:8080/"
        },
        "id": "eNxnTLS3aIxO",
        "outputId": "c10aff64-64c0-491c-dbf3-1c04954b7dd8"
      },
      "outputs": [
        {
          "output_type": "stream",
          "name": "stdout",
          "text": [
            "This cat is a Sjam\n",
            "This cat is a Persian\n"
          ]
        }
      ],
      "source": [
        "for c in clist:\n",
        "    c.Print()"
      ]
    },
    {
      "cell_type": "markdown",
      "metadata": {
        "id": "BZ50ddUVaIxO"
      },
      "source": [
        "**Coding time!**: Extend the Animal class to poses a method that returns the number of letters in the phylum (need a better idea). Test this method here."
      ]
    },
    {
      "cell_type": "markdown",
      "metadata": {
        "id": "1QX4IBSzaIxO"
      },
      "source": [
        "### Going back to additional attributes:\n",
        "Let's see some consequences of the additional attribute:"
      ]
    },
    {
      "cell_type": "code",
      "execution_count": 11,
      "metadata": {
        "id": "W90ijzTRaIxP"
      },
      "outputs": [],
      "source": [
        "class Cat:\n",
        "    def fun(self):\n",
        "        print(self.b) # this Cat has no b!"
      ]
    },
    {
      "cell_type": "code",
      "execution_count": 12,
      "metadata": {
        "colab": {
          "base_uri": "https://localhost:8080/",
          "height": 270
        },
        "id": "5CYRNGpXaIxP",
        "outputId": "a0c2c903-dc6f-4081-8d17-4a0e2e4618e8"
      },
      "outputs": [
        {
          "output_type": "error",
          "ename": "AttributeError",
          "evalue": "ignored",
          "traceback": [
            "\u001b[0;31m---------------------------------------------------------------------------\u001b[0m",
            "\u001b[0;31mAttributeError\u001b[0m                            Traceback (most recent call last)",
            "\u001b[0;32m<ipython-input-12-32ed28078c12>\u001b[0m in \u001b[0;36m<module>\u001b[0;34m\u001b[0m\n\u001b[1;32m      1\u001b[0m \u001b[0ma\u001b[0m \u001b[0;34m=\u001b[0m \u001b[0mCat\u001b[0m\u001b[0;34m(\u001b[0m\u001b[0;34m)\u001b[0m\u001b[0;34m\u001b[0m\u001b[0;34m\u001b[0m\u001b[0m\n\u001b[0;32m----> 2\u001b[0;31m \u001b[0ma\u001b[0m\u001b[0;34m.\u001b[0m\u001b[0mfun\u001b[0m\u001b[0;34m(\u001b[0m\u001b[0;34m)\u001b[0m\u001b[0;34m\u001b[0m\u001b[0;34m\u001b[0m\u001b[0m\n\u001b[0m",
            "\u001b[0;32m<ipython-input-11-643d052e0749>\u001b[0m in \u001b[0;36mfun\u001b[0;34m(self)\u001b[0m\n\u001b[1;32m      1\u001b[0m \u001b[0;32mclass\u001b[0m \u001b[0mCat\u001b[0m\u001b[0;34m:\u001b[0m\u001b[0;34m\u001b[0m\u001b[0;34m\u001b[0m\u001b[0m\n\u001b[1;32m      2\u001b[0m     \u001b[0;32mdef\u001b[0m \u001b[0mfun\u001b[0m\u001b[0;34m(\u001b[0m\u001b[0mself\u001b[0m\u001b[0;34m)\u001b[0m\u001b[0;34m:\u001b[0m\u001b[0;34m\u001b[0m\u001b[0;34m\u001b[0m\u001b[0m\n\u001b[0;32m----> 3\u001b[0;31m         \u001b[0mprint\u001b[0m\u001b[0;34m(\u001b[0m\u001b[0mself\u001b[0m\u001b[0;34m.\u001b[0m\u001b[0mb\u001b[0m\u001b[0;34m)\u001b[0m \u001b[0;31m# this Cat has no b!\u001b[0m\u001b[0;34m\u001b[0m\u001b[0;34m\u001b[0m\u001b[0m\n\u001b[0m",
            "\u001b[0;31mAttributeError\u001b[0m: 'Cat' object has no attribute 'b'"
          ]
        }
      ],
      "source": [
        "a = Cat()\n",
        "a.fun()"
      ]
    },
    {
      "cell_type": "code",
      "execution_count": 13,
      "metadata": {
        "colab": {
          "base_uri": "https://localhost:8080/"
        },
        "id": "TT_yfnWqaIxP",
        "outputId": "e9f4aee0-5373-4c22-c4d2-84ab4f82aa0a"
      },
      "outputs": [
        {
          "output_type": "stream",
          "name": "stdout",
          "text": [
            "0\n",
            "0\n"
          ]
        }
      ],
      "source": [
        "a.b = 0\n",
        "print(a.b)\n",
        "# but:\n",
        "a.fun()"
      ]
    },
    {
      "cell_type": "markdown",
      "metadata": {
        "id": "NKd2O8bnaIxP"
      },
      "source": [
        "### __init__ method\n",
        "Is used to define a way to construct an object of the class. It is run the moment you create an object and can be used to create one based on some parameters. Our new cat will look like this:"
      ]
    },
    {
      "cell_type": "code",
      "execution_count": 14,
      "metadata": {
        "id": "bDWBcgrPaIxP"
      },
      "outputs": [],
      "source": [
        "class Cat:\n",
        "    def __init__(self, b, c, a):\n",
        "        self.breed = b\n",
        "        self.color = c\n",
        "        self.age = a\n",
        "    def Print(self):\n",
        "        print('This', self.breed, 'cat is', self.color, 'and is', self.age, 'years old')"
      ]
    },
    {
      "cell_type": "code",
      "execution_count": 15,
      "metadata": {
        "colab": {
          "base_uri": "https://localhost:8080/"
        },
        "id": "ReBSuW2TaIxP",
        "outputId": "3a70dcdd-062a-4415-b0be-df53109595e3"
      },
      "outputs": [
        {
          "output_type": "stream",
          "name": "stdout",
          "text": [
            "This Sjam cat is black and is 10 years old\n"
          ]
        }
      ],
      "source": [
        "a = Cat('Sjam', 'black', 10)\n",
        "a.Print()"
      ]
    },
    {
      "cell_type": "markdown",
      "metadata": {
        "id": "0-yOdbVPaIxP"
      },
      "source": [
        "**Coding time!**: Add **__init__(self, ...)** method to the Animal. Set phylum and test it here by creating some Animal objects."
      ]
    },
    {
      "cell_type": "markdown",
      "metadata": {
        "id": "jWuqeNZ1aIxP"
      },
      "source": [
        "## Encapsulation or hermetization\n",
        "One of the crucial concepts in OPP is encapsulation or hermetization. That is ability to limit access to some of the object's attributes and making them unavailable for modification or even reading. Various languages offer different levels at which such restriction is possible (e.g. **C++** has a sophisticated suite of possibilities). In Python this is limited to a naming convention. Any attribute that starts with \\_\\_ (two low bars?) is restricted. Let's see an example of a Cat's bowl, that we are going to make unavailable:"
      ]
    },
    {
      "cell_type": "code",
      "execution_count": 22,
      "metadata": {
        "id": "1N5ko6IQaIxQ"
      },
      "outputs": [],
      "source": [
        "class Cat:\n",
        "    def __init__(self):\n",
        "        self.__bowl = 'empty' # cats have bowls with food\n",
        "    def FillBowl(self):\n",
        "        self.__bowl = \"Filled with food\"\n",
        "    def Eat(self):\n",
        "        self.__bowl = 'empty'\n",
        "    def Print(self):\n",
        "        print(self.__bowl)\n",
        "        cathappy = \"Cat is happy\" if self.__bowl != 'empty' else \"Cat is sad\"\n",
        "        print(cathappy)"
      ]
    },
    {
      "cell_type": "code",
      "execution_count": 23,
      "metadata": {
        "id": "DNYUa4tdaIxQ"
      },
      "outputs": [],
      "source": [
        "a = Cat()\n",
        "a.FillBowl()"
      ]
    },
    {
      "cell_type": "code",
      "execution_count": 24,
      "metadata": {
        "colab": {
          "base_uri": "https://localhost:8080/",
          "height": 166
        },
        "id": "yCozjr1DaIxQ",
        "outputId": "2c3c335a-5bf9-403a-bd99-eac2c62d3755"
      },
      "outputs": [
        {
          "output_type": "error",
          "ename": "AttributeError",
          "evalue": "ignored",
          "traceback": [
            "\u001b[0;31m---------------------------------------------------------------------------\u001b[0m",
            "\u001b[0;31mAttributeError\u001b[0m                            Traceback (most recent call last)",
            "\u001b[0;32m<ipython-input-24-b839af40e848>\u001b[0m in \u001b[0;36m<module>\u001b[0;34m\u001b[0m\n\u001b[0;32m----> 1\u001b[0;31m \u001b[0mprint\u001b[0m\u001b[0;34m(\u001b[0m\u001b[0ma\u001b[0m\u001b[0;34m.\u001b[0m\u001b[0m__bowl\u001b[0m\u001b[0;34m)\u001b[0m\u001b[0;34m\u001b[0m\u001b[0;34m\u001b[0m\u001b[0m\n\u001b[0m",
            "\u001b[0;31mAttributeError\u001b[0m: 'Cat' object has no attribute '__bowl'"
          ]
        }
      ],
      "source": [
        "print(a.__bowl)"
      ]
    },
    {
      "cell_type": "code",
      "execution_count": 25,
      "metadata": {
        "id": "c00i0YBuaIxQ"
      },
      "outputs": [],
      "source": [
        "a.__bowl = 'empty'"
      ]
    },
    {
      "cell_type": "code",
      "execution_count": 26,
      "metadata": {
        "colab": {
          "base_uri": "https://localhost:8080/"
        },
        "id": "iMoUmrNLaIxQ",
        "outputId": "cc350baf-3c60-4737-bbdc-bf0fa9b45608"
      },
      "outputs": [
        {
          "output_type": "stream",
          "name": "stdout",
          "text": [
            "Filled with food\n",
            "Cat is happy\n"
          ]
        }
      ],
      "source": [
        "a.Print()"
      ]
    },
    {
      "cell_type": "code",
      "execution_count": 27,
      "metadata": {
        "colab": {
          "base_uri": "https://localhost:8080/"
        },
        "id": "TzX-bRF_aIxQ",
        "outputId": "2d4fb135-c89f-41c6-8444-20268c4995fd"
      },
      "outputs": [
        {
          "output_type": "stream",
          "name": "stdout",
          "text": [
            "empty\n",
            "Cat is sad\n"
          ]
        }
      ],
      "source": [
        "a.Eat()\n",
        "a.Print()"
      ]
    },
    {
      "cell_type": "markdown",
      "metadata": {
        "id": "gRfjuJNtaIxQ"
      },
      "source": [
        "We note that we can not access Cat's bowl for reading (AttributeError),\n",
        "and if we try to assign to it it has no effect on the attribute."
      ]
    },
    {
      "cell_type": "markdown",
      "metadata": {
        "id": "k2l_nZguaIxQ"
      },
      "source": [
        "**Coding time!**: Extend the Animal class to contain a private member variable. This variable could be a string describing if the animal exists presently or is extinct. Add Methods, to read (get) write (set) this variable, and test those here."
      ]
    },
    {
      "cell_type": "markdown",
      "metadata": {
        "id": "0CstRoWsaIxR"
      },
      "source": [
        "## Inheritance and polymorphism"
      ]
    },
    {
      "cell_type": "markdown",
      "metadata": {
        "id": "6xotlhQ4aIxR"
      },
      "source": [
        "Inheritance is central to OOP. The concept is based on extending functionality of existing classes by deriving from them new ones, that conceptually perform similar, but more specific tasks. So inheritance introduces hierarchy to classes form abstract concepts (such as a general shape in geometry) down to very specific ones (for shapes, a square or a triangle, etc.).\n",
        "\n",
        "The class that is more abstract, from which we derive is called the **base** class (general shape), and the less abstract class formed via inheritance is the **derived** one (a square is less general than a shape, so it could be derived from it).\n",
        "\n",
        "Concept of inheritance allows for:\n",
        "* Less code, since code is reused\n",
        "* Possibly more order in the code\n",
        "* Polymorphism, i.e. handling objects in a unified way\n",
        "\n",
        "Let us present the concept with\n",
        "\n",
        "```sequence\n",
        "Mammal<-Dog\n",
        "      <-Cat\n",
        "```\n",
        "Note: Show step-by-step, not all at once:"
      ]
    },
    {
      "cell_type": "code",
      "execution_count": 28,
      "metadata": {
        "id": "hHAoOGTEaIxR"
      },
      "outputs": [],
      "source": [
        "class Mammal():\n",
        "    def __init__(self):\n",
        "        self.drinks_milk = 'Yes'\n",
        "class Cat(Mammal):\n",
        "    pass\n",
        "class Dog(Mammal):\n",
        "    pass"
      ]
    },
    {
      "cell_type": "markdown",
      "metadata": {
        "id": "TglVzuHdaIxR"
      },
      "source": [
        "Finally we get something like this:"
      ]
    },
    {
      "cell_type": "code",
      "execution_count": 29,
      "metadata": {
        "id": "I9KVc94WaIxR"
      },
      "outputs": [],
      "source": [
        "class Mammal():\n",
        "    def __init__(self, n):\n",
        "        self.name = n\n",
        "        self.drinks_milk = \"Yes\"\n",
        "    def make_noise(self): # all derived classes make noise \n",
        "        print(self.noise)\n",
        "    def print_name(self):\n",
        "        print('Has no name')\n",
        "\n",
        "class Cat(Mammal):\n",
        "    def __init__(self):\n",
        "        self.noise = \"Meow\"\n",
        "        Mammal.__init__(self, \"Cat\")\n",
        "    def print_name(self):\n",
        "        print('Behemoth')\n",
        "        \n",
        "class Dog(Mammal):\n",
        "    def __init__(self):\n",
        "        self.noise = \"Bark\"\n",
        "        Mammal.__init__(self, \"Cat\")\n",
        "    def print_name(self):\n",
        "        print('Cerberus')"
      ]
    },
    {
      "cell_type": "code",
      "execution_count": 30,
      "metadata": {
        "colab": {
          "base_uri": "https://localhost:8080/"
        },
        "id": "lv_NMQDmaIxR",
        "outputId": "1a779c3d-add9-4005-9b6e-90b22c654000"
      },
      "outputs": [
        {
          "output_type": "stream",
          "name": "stdout",
          "text": [
            "Has no name\n"
          ]
        }
      ],
      "source": [
        "m = Mammal('')\n",
        "# print(m.drinks_milk)\n",
        "m.print_name()\n",
        "# m.make_noise()"
      ]
    },
    {
      "cell_type": "code",
      "execution_count": 31,
      "metadata": {
        "colab": {
          "base_uri": "https://localhost:8080/"
        },
        "id": "ozsF__K-aIxR",
        "outputId": "94ea39ee-716c-4b7f-be8b-6a3638117328"
      },
      "outputs": [
        {
          "output_type": "stream",
          "name": "stdout",
          "text": [
            "Yes\n",
            "Behemoth\n",
            "Meow\n"
          ]
        }
      ],
      "source": [
        "c = Cat()\n",
        "print(c.drinks_milk)\n",
        "c.print_name()\n",
        "c.make_noise()"
      ]
    },
    {
      "cell_type": "code",
      "execution_count": 32,
      "metadata": {
        "colab": {
          "base_uri": "https://localhost:8080/"
        },
        "id": "e90Y_FONaIxR",
        "outputId": "ee12020e-baf5-4169-8b81-8b80d3b53833"
      },
      "outputs": [
        {
          "output_type": "stream",
          "name": "stdout",
          "text": [
            "Yes\n",
            "Cerberus\n",
            "Bark\n"
          ]
        }
      ],
      "source": [
        "d = Dog()\n",
        "print(c.drinks_milk)\n",
        "d.print_name()\n",
        "d.make_noise()"
      ]
    },
    {
      "cell_type": "markdown",
      "metadata": {
        "id": "dEQHR_XGaIxS"
      },
      "source": [
        "**Coding time!**: Extend the Animal class to be base for Cat and Dog via Mammal class. Add Reptiles to go along with mammals and some derived classes that inherit from a reptile. In the end you should be able to create objects of 4 different classes."
      ]
    },
    {
      "cell_type": "markdown",
      "metadata": {
        "id": "EhqQeFy5aIxS"
      },
      "source": [
        "### Some operations on lists\n",
        "Since we are now able to create objects and connect data to procedures, we will try to experiment with operations on lists that concern lists of objects.\n",
        "\n",
        "Use\n",
        "* filter()\n",
        "* sort with lambda\n",
        "\n",
        "create a number of cats, dogs and snakes of various ages.\n",
        "Make a function that generates an animal of a random type.\n",
        "Put them all in a list and filter according to various criteria. Use\n",
        "```\n",
        "import random\n",
        "print(random.randint(0, 9))\n",
        "```\n",
        "To generate random behavior."
      ]
    },
    {
      "cell_type": "code",
      "execution_count": 43,
      "metadata": {
        "id": "9dIiuyhIaIxS"
      },
      "outputs": [],
      "source": [
        "numbers = [1, 2, 3, 4]\n",
        "a = filter(lambda l: l < 3, numbers)"
      ]
    },
    {
      "cell_type": "code",
      "execution_count": 46,
      "metadata": {
        "colab": {
          "base_uri": "https://localhost:8080/"
        },
        "id": "8znj6ph1aIxS",
        "outputId": "1c7f94ba-a7eb-40b0-ef44-a348b8c67b2d"
      },
      "outputs": [
        {
          "output_type": "stream",
          "name": "stdout",
          "text": [
            "[<function <lambda> at 0x7ff935883c10>, [1, 2, 3, 4]]\n"
          ]
        }
      ],
      "source": [
        "print(list(a))"
      ]
    },
    {
      "cell_type": "code",
      "execution_count": 40,
      "metadata": {
        "colab": {
          "base_uri": "https://localhost:8080/"
        },
        "id": "fWI8vNF4aIxS",
        "outputId": "56500a72-8580-4804-9f80-aa20c9122944"
      },
      "outputs": [
        {
          "output_type": "stream",
          "name": "stdout",
          "text": [
            "1\n"
          ]
        }
      ],
      "source": [
        "import random\n",
        "print(random.randint(0, 9))"
      ]
    },
    {
      "cell_type": "code",
      "execution_count": null,
      "metadata": {
        "id": "tIN3z9y2aIxS"
      },
      "outputs": [],
      "source": []
    }
  ],
  "metadata": {
    "kernelspec": {
      "display_name": "Python 3 (ipykernel)",
      "language": "python",
      "name": "python3"
    },
    "language_info": {
      "codemirror_mode": {
        "name": "ipython",
        "version": 3
      },
      "file_extension": ".py",
      "mimetype": "text/x-python",
      "name": "python",
      "nbconvert_exporter": "python",
      "pygments_lexer": "ipython3",
      "version": "3.9.12"
    },
    "colab": {
      "provenance": []
    }
  },
  "nbformat": 4,
  "nbformat_minor": 0
}